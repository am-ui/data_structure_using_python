{
  "nbformat": 4,
  "nbformat_minor": 0,
  "metadata": {
    "colab": {
      "name": "dictoinary.ipynb",
      "provenance": [],
      "collapsed_sections": []
    },
    "kernelspec": {
      "name": "python3",
      "display_name": "Python 3"
    }
  },
  "cells": [
    {
      "cell_type": "markdown",
      "metadata": {
        "id": "xSFxMAnCh3SL"
      },
      "source": [
        "#Dictionary\r\n",
        ":-n Dictionary each key is separated from its value by a colon (:), the items are separated by commas, and the whole thing is enclosed in curly braces."
      ]
    },
    {
      "cell_type": "code",
      "metadata": {
        "id": "VtCg5kqwoqbL"
      },
      "source": [
        "dict1 = {'name':'Amit','age':21, 'course':'B.tech'}"
      ],
      "execution_count": 1,
      "outputs": []
    },
    {
      "cell_type": "code",
      "metadata": {
        "colab": {
          "base_uri": "https://localhost:8080/"
        },
        "id": "4T1ngSwjpK11",
        "outputId": "422b3f2b-f43a-4494-ee3f-e380c3f25f5a"
      },
      "source": [
        "#accessing the dictionary\r\n",
        "dict1"
      ],
      "execution_count": 2,
      "outputs": [
        {
          "output_type": "execute_result",
          "data": {
            "text/plain": [
              "{'age': 21, 'course': 'B.tech', 'name': 'Amit'}"
            ]
          },
          "metadata": {
            "tags": []
          },
          "execution_count": 2
        }
      ]
    },
    {
      "cell_type": "code",
      "metadata": {
        "colab": {
          "base_uri": "https://localhost:8080/",
          "height": 36
        },
        "id": "u-jGGDJRpRiG",
        "outputId": "0a2c45d1-6ae8-4327-fb5d-5b6ad9b1ff31"
      },
      "source": [
        "dict1['name']"
      ],
      "execution_count": 4,
      "outputs": [
        {
          "output_type": "execute_result",
          "data": {
            "application/vnd.google.colaboratory.intrinsic+json": {
              "type": "string"
            },
            "text/plain": [
              "'Amit'"
            ]
          },
          "metadata": {
            "tags": []
          },
          "execution_count": 4
        }
      ]
    },
    {
      "cell_type": "code",
      "metadata": {
        "colab": {
          "base_uri": "https://localhost:8080/"
        },
        "id": "9gy2GwLUpXG_",
        "outputId": "45c14689-5ee1-4b51-af20-9926f985a1d2"
      },
      "source": [
        "dict1['age']"
      ],
      "execution_count": 5,
      "outputs": [
        {
          "output_type": "execute_result",
          "data": {
            "text/plain": [
              "21"
            ]
          },
          "metadata": {
            "tags": []
          },
          "execution_count": 5
        }
      ]
    },
    {
      "cell_type": "code",
      "metadata": {
        "id": "GasOoWc1peEf"
      },
      "source": [
        "#update the entity\r\n",
        "dict1['age']=22"
      ],
      "execution_count": 6,
      "outputs": []
    },
    {
      "cell_type": "code",
      "metadata": {
        "colab": {
          "base_uri": "https://localhost:8080/"
        },
        "id": "RjqkyKBcp3Ho",
        "outputId": "658aa8b8-4933-4b58-9111-93be2d091c42"
      },
      "source": [
        "dict1['age']"
      ],
      "execution_count": 7,
      "outputs": [
        {
          "output_type": "execute_result",
          "data": {
            "text/plain": [
              "22"
            ]
          },
          "metadata": {
            "tags": []
          },
          "execution_count": 7
        }
      ]
    },
    {
      "cell_type": "code",
      "metadata": {
        "id": "0yIV_iK2p5z2"
      },
      "source": [
        "#add the entity\r\n",
        "dict1['University']='Jaipur National University'"
      ],
      "execution_count": 8,
      "outputs": []
    },
    {
      "cell_type": "code",
      "metadata": {
        "colab": {
          "base_uri": "https://localhost:8080/"
        },
        "id": "g6iT8FvCqTKf",
        "outputId": "0bdcaa56-fd90-49a8-82c4-e6132f526735"
      },
      "source": [
        "dict1"
      ],
      "execution_count": 9,
      "outputs": [
        {
          "output_type": "execute_result",
          "data": {
            "text/plain": [
              "{'University': 'Jaipur National University',\n",
              " 'age': 22,\n",
              " 'course': 'B.tech',\n",
              " 'name': 'Amit'}"
            ]
          },
          "metadata": {
            "tags": []
          },
          "execution_count": 9
        }
      ]
    },
    {
      "cell_type": "code",
      "metadata": {
        "id": "HmXW7lV6qVRq"
      },
      "source": [
        "# delete an entity\r\n",
        "del dict1['University']"
      ],
      "execution_count": 12,
      "outputs": []
    },
    {
      "cell_type": "code",
      "metadata": {
        "colab": {
          "base_uri": "https://localhost:8080/"
        },
        "id": "T3bbpWnfqoj3",
        "outputId": "ca43fb1d-df9b-4345-f738-09093040bf1b"
      },
      "source": [
        "dict1"
      ],
      "execution_count": 13,
      "outputs": [
        {
          "output_type": "execute_result",
          "data": {
            "text/plain": [
              "{'age': 22, 'course': 'B.tech', 'name': 'Amit'}"
            ]
          },
          "metadata": {
            "tags": []
          },
          "execution_count": 13
        }
      ]
    },
    {
      "cell_type": "code",
      "metadata": {
        "id": "c2Jm6czAq3Rj"
      },
      "source": [
        "#clear the all entity of the dictionary\r\n",
        "dict1.clear()"
      ],
      "execution_count": 15,
      "outputs": []
    },
    {
      "cell_type": "code",
      "metadata": {
        "colab": {
          "base_uri": "https://localhost:8080/"
        },
        "id": "I1TPYAA1rHx4",
        "outputId": "63ebc1d1-a526-4cc1-d210-e95b7ff90662"
      },
      "source": [
        "dict1"
      ],
      "execution_count": 16,
      "outputs": [
        {
          "output_type": "execute_result",
          "data": {
            "text/plain": [
              "{}"
            ]
          },
          "metadata": {
            "tags": []
          },
          "execution_count": 16
        }
      ]
    },
    {
      "cell_type": "code",
      "metadata": {
        "id": "OBhiXthxrNKQ"
      },
      "source": [
        "#delete entire dictionary\r\n",
        "del dict1"
      ],
      "execution_count": 17,
      "outputs": []
    },
    {
      "cell_type": "code",
      "metadata": {
        "colab": {
          "base_uri": "https://localhost:8080/",
          "height": 168
        },
        "id": "-NdjalGRrW-u",
        "outputId": "0128f9e4-544a-4ce2-83e9-022115f7fa91"
      },
      "source": [
        "dict1"
      ],
      "execution_count": 18,
      "outputs": [
        {
          "output_type": "error",
          "ename": "NameError",
          "evalue": "ignored",
          "traceback": [
            "\u001b[0;31m---------------------------------------------------------------------------\u001b[0m",
            "\u001b[0;31mNameError\u001b[0m                                 Traceback (most recent call last)",
            "\u001b[0;32m<ipython-input-18-e36219336d90>\u001b[0m in \u001b[0;36m<module>\u001b[0;34m()\u001b[0m\n\u001b[0;32m----> 1\u001b[0;31m \u001b[0mdict1\u001b[0m\u001b[0;34m\u001b[0m\u001b[0;34m\u001b[0m\u001b[0m\n\u001b[0m",
            "\u001b[0;31mNameError\u001b[0m: name 'dict1' is not defined"
          ]
        }
      ]
    },
    {
      "cell_type": "code",
      "metadata": {
        "id": "US75hOSFrYaH"
      },
      "source": [
        "#More than one entry per key not allowed. Which means no duplicate key is allowed\r\n",
        "#Keys must be immutable. Which means you can use strings, numbers or tuples as dictionary keys but something like ['key'] is not allowed."
      ],
      "execution_count": null,
      "outputs": []
    }
  ]
}