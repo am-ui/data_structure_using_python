{
  "nbformat": 4,
  "nbformat_minor": 0,
  "metadata": {
    "colab": {
      "name": "list&tuple.ipynb",
      "provenance": [],
      "collapsed_sections": []
    },
    "kernelspec": {
      "name": "python3",
      "display_name": "Python 3"
    }
  },
  "cells": [
    {
      "cell_type": "markdown",
      "metadata": {
        "id": "iZGJVw3b9_Q4"
      },
      "source": [
        "#List\r\n",
        "The list is a most versatile datatype available in Python which can be written as a list of comma-separated values (items) between square brackets. Important thing about a list is that items in a list need not be of the same type."
      ]
    },
    {
      "cell_type": "code",
      "metadata": {
        "id": "cFPqkFjB-OPf"
      },
      "source": [
        "list1 = [' Amit ', ' Kuamr ',1999,2000]\r\n",
        "list2 = [ 1, 2, 3, 4, 5]\r\n",
        "list3 = ['a' , 'b', 'c', 'd', 'f']\r\n"
      ],
      "execution_count": 1,
      "outputs": []
    },
    {
      "cell_type": "code",
      "metadata": {
        "colab": {
          "base_uri": "https://localhost:8080/"
        },
        "id": "0MYnp3pQ-zWl",
        "outputId": "131b87f8-7645-4891-930a-d5e8496bbe32"
      },
      "source": [
        "#accessing the list\r\n",
        "list1[2]"
      ],
      "execution_count": 2,
      "outputs": [
        {
          "output_type": "execute_result",
          "data": {
            "text/plain": [
              "1999"
            ]
          },
          "metadata": {
            "tags": []
          },
          "execution_count": 2
        }
      ]
    },
    {
      "cell_type": "code",
      "metadata": {
        "colab": {
          "base_uri": "https://localhost:8080/",
          "height": 36
        },
        "id": "Tugx7box_c1Q",
        "outputId": "6ec68a07-6d11-4de2-f24c-2451ca57abfc"
      },
      "source": [
        "\r\n",
        "list3[4]"
      ],
      "execution_count": 4,
      "outputs": [
        {
          "output_type": "execute_result",
          "data": {
            "application/vnd.google.colaboratory.intrinsic+json": {
              "type": "string"
            },
            "text/plain": [
              "'f'"
            ]
          },
          "metadata": {
            "tags": []
          },
          "execution_count": 4
        }
      ]
    },
    {
      "cell_type": "code",
      "metadata": {
        "colab": {
          "base_uri": "https://localhost:8080/"
        },
        "id": "Stpb1emH_j1W",
        "outputId": "1d0324ec-4d01-4df2-e3ff-1c80b3995633"
      },
      "source": [
        "list2[0]"
      ],
      "execution_count": 5,
      "outputs": [
        {
          "output_type": "execute_result",
          "data": {
            "text/plain": [
              "1"
            ]
          },
          "metadata": {
            "tags": []
          },
          "execution_count": 5
        }
      ]
    },
    {
      "cell_type": "code",
      "metadata": {
        "colab": {
          "base_uri": "https://localhost:8080/"
        },
        "id": "0G94dnOF_tM4",
        "outputId": "345e83eb-5e33-4bf8-ccbd-9b7964bc546e"
      },
      "source": [
        "list2[1:3]"
      ],
      "execution_count": 6,
      "outputs": [
        {
          "output_type": "execute_result",
          "data": {
            "text/plain": [
              "[2, 3]"
            ]
          },
          "metadata": {
            "tags": []
          },
          "execution_count": 6
        }
      ]
    },
    {
      "cell_type": "code",
      "metadata": {
        "colab": {
          "base_uri": "https://localhost:8080/"
        },
        "id": "OVFczr-J__QI",
        "outputId": "03d14dc2-a66c-4409-d38c-ae08f4508e30"
      },
      "source": [
        "list2[1:5]"
      ],
      "execution_count": 7,
      "outputs": [
        {
          "output_type": "execute_result",
          "data": {
            "text/plain": [
              "[2, 3, 4, 5]"
            ]
          },
          "metadata": {
            "tags": []
          },
          "execution_count": 7
        }
      ]
    },
    {
      "cell_type": "code",
      "metadata": {
        "colab": {
          "base_uri": "https://localhost:8080/"
        },
        "id": "oup0WwMpANIq",
        "outputId": "2820c12a-6a9f-4156-f5ed-a10497cc21cf"
      },
      "source": [
        "list2[1:-2]"
      ],
      "execution_count": 8,
      "outputs": [
        {
          "output_type": "execute_result",
          "data": {
            "text/plain": [
              "[2, 3]"
            ]
          },
          "metadata": {
            "tags": []
          },
          "execution_count": 8
        }
      ]
    },
    {
      "cell_type": "code",
      "metadata": {
        "id": "3Vhtil-lAUJo"
      },
      "source": [
        "list1[2]='Pathak'"
      ],
      "execution_count": 9,
      "outputs": []
    },
    {
      "cell_type": "code",
      "metadata": {
        "colab": {
          "base_uri": "https://localhost:8080/"
        },
        "id": "VZcd5FM1A9C5",
        "outputId": "9ab5ecda-eda1-4a9e-e307-234a8757896e"
      },
      "source": [
        "list1"
      ],
      "execution_count": 10,
      "outputs": [
        {
          "output_type": "execute_result",
          "data": {
            "text/plain": [
              "[' Amit ', ' Kuamr ', 'Pathak', 2000]"
            ]
          },
          "metadata": {
            "tags": []
          },
          "execution_count": 10
        }
      ]
    },
    {
      "cell_type": "code",
      "metadata": {
        "id": "xF27crZdA_Oy"
      },
      "source": [
        "list2[4]=9"
      ],
      "execution_count": 11,
      "outputs": []
    },
    {
      "cell_type": "code",
      "metadata": {
        "colab": {
          "base_uri": "https://localhost:8080/"
        },
        "id": "NL6S2A6MBLP5",
        "outputId": "db8b8dda-aaa3-4020-f5e0-31a76bc653e6"
      },
      "source": [
        "list2"
      ],
      "execution_count": 12,
      "outputs": [
        {
          "output_type": "execute_result",
          "data": {
            "text/plain": [
              "[1, 2, 3, 4, 9]"
            ]
          },
          "metadata": {
            "tags": []
          },
          "execution_count": 12
        }
      ]
    },
    {
      "cell_type": "code",
      "metadata": {
        "id": "RK1vhUoUBMtw"
      },
      "source": [
        "del list1[1]"
      ],
      "execution_count": 13,
      "outputs": []
    },
    {
      "cell_type": "code",
      "metadata": {
        "colab": {
          "base_uri": "https://localhost:8080/"
        },
        "id": "XfTkKPXWBcP1",
        "outputId": "eb8d74a7-844f-4610-d920-b9660ac6036c"
      },
      "source": [
        "list1"
      ],
      "execution_count": 14,
      "outputs": [
        {
          "output_type": "execute_result",
          "data": {
            "text/plain": [
              "[' Amit ', 'Pathak', 2000]"
            ]
          },
          "metadata": {
            "tags": []
          },
          "execution_count": 14
        }
      ]
    },
    {
      "cell_type": "code",
      "metadata": {
        "id": "1PN6wwqcBezd"
      },
      "source": [
        "del list1[-1]"
      ],
      "execution_count": 15,
      "outputs": []
    },
    {
      "cell_type": "code",
      "metadata": {
        "colab": {
          "base_uri": "https://localhost:8080/"
        },
        "id": "yznEYun2BmiV",
        "outputId": "eb7a9e9c-7e71-46ec-9b49-98f365b55539"
      },
      "source": [
        "list1"
      ],
      "execution_count": 16,
      "outputs": [
        {
          "output_type": "execute_result",
          "data": {
            "text/plain": [
              "[' Amit ', 'Pathak']"
            ]
          },
          "metadata": {
            "tags": []
          },
          "execution_count": 16
        }
      ]
    },
    {
      "cell_type": "code",
      "metadata": {
        "colab": {
          "base_uri": "https://localhost:8080/"
        },
        "id": "qzS7aG2hBpfs",
        "outputId": "bad0d826-f0d3-462c-d7c6-7b1c0390d8cf"
      },
      "source": [
        "list2"
      ],
      "execution_count": 17,
      "outputs": [
        {
          "output_type": "execute_result",
          "data": {
            "text/plain": [
              "[1, 2, 3, 4, 9]"
            ]
          },
          "metadata": {
            "tags": []
          },
          "execution_count": 17
        }
      ]
    },
    {
      "cell_type": "code",
      "metadata": {
        "id": "btfGJ5DwCSAL"
      },
      "source": [
        "del list2 [2]"
      ],
      "execution_count": 18,
      "outputs": []
    },
    {
      "cell_type": "code",
      "metadata": {
        "colab": {
          "base_uri": "https://localhost:8080/"
        },
        "id": "e92ED39GCVvJ",
        "outputId": "8a77af75-e08a-4bb9-e426-2d7d0cc38503"
      },
      "source": [
        "list2"
      ],
      "execution_count": 19,
      "outputs": [
        {
          "output_type": "execute_result",
          "data": {
            "text/plain": [
              "[1, 2, 4, 9]"
            ]
          },
          "metadata": {
            "tags": []
          },
          "execution_count": 19
        }
      ]
    },
    {
      "cell_type": "markdown",
      "metadata": {
        "id": "8OCYfdRxCiGT"
      },
      "source": [
        "#Operation"
      ]
    },
    {
      "cell_type": "code",
      "metadata": {
        "colab": {
          "base_uri": "https://localhost:8080/"
        },
        "id": "DuwMtZNkCX1_",
        "outputId": "8555d1d9-2404-4eb7-dfbc-85cfd11fbfbc"
      },
      "source": [
        "#Find the length of the list\r\n",
        "len(list3)"
      ],
      "execution_count": 20,
      "outputs": [
        {
          "output_type": "execute_result",
          "data": {
            "text/plain": [
              "5"
            ]
          },
          "metadata": {
            "tags": []
          },
          "execution_count": 20
        }
      ]
    },
    {
      "cell_type": "code",
      "metadata": {
        "colab": {
          "base_uri": "https://localhost:8080/"
        },
        "id": "5IvUGN3bCxyQ",
        "outputId": "34257d56-bd1d-4a5d-eb08-a77399c201c4"
      },
      "source": [
        "#find the concetation of the two list\r\n",
        "list1 + list2"
      ],
      "execution_count": 21,
      "outputs": [
        {
          "output_type": "execute_result",
          "data": {
            "text/plain": [
              "[' Amit ', 'Pathak', 1, 2, 4, 9]"
            ]
          },
          "metadata": {
            "tags": []
          },
          "execution_count": 21
        }
      ]
    },
    {
      "cell_type": "code",
      "metadata": {
        "colab": {
          "base_uri": "https://localhost:8080/"
        },
        "id": "_XqBHqc_C-6i",
        "outputId": "9f37dca2-dcc2-472c-c7d1-4607466959f3"
      },
      "source": [
        "#Repeation of the list\r\n",
        "list1*2"
      ],
      "execution_count": 22,
      "outputs": [
        {
          "output_type": "execute_result",
          "data": {
            "text/plain": [
              "[' Amit ', 'Pathak', ' Amit ', 'Pathak']"
            ]
          },
          "metadata": {
            "tags": []
          },
          "execution_count": 22
        }
      ]
    },
    {
      "cell_type": "code",
      "metadata": {
        "colab": {
          "base_uri": "https://localhost:8080/"
        },
        "id": "3A6LMOfODLjS",
        "outputId": "6186c8f4-bb92-4abd-f660-21b90a758916"
      },
      "source": [
        "#Find the membership of the list\r\n",
        "2 in list2"
      ],
      "execution_count": 23,
      "outputs": [
        {
          "output_type": "execute_result",
          "data": {
            "text/plain": [
              "True"
            ]
          },
          "metadata": {
            "tags": []
          },
          "execution_count": 23
        }
      ]
    },
    {
      "cell_type": "code",
      "metadata": {
        "colab": {
          "base_uri": "https://localhost:8080/"
        },
        "id": "MuoiZieCDZKP",
        "outputId": "2e2bac50-ae87-40ef-d2ee-9e70b1a6ff4d"
      },
      "source": [
        "#itration \r\n",
        "#print all element of the list\r\n",
        "for x in list2:\r\n",
        "  print(x)"
      ],
      "execution_count": 25,
      "outputs": [
        {
          "output_type": "stream",
          "text": [
            "1\n",
            "2\n",
            "4\n",
            "9\n"
          ],
          "name": "stdout"
        }
      ]
    },
    {
      "cell_type": "markdown",
      "metadata": {
        "id": "sLFSLlRqEWyJ"
      },
      "source": [
        "#Tuple\r\n",
        ":- A tuple is a sequence of immutable Python objects. Tuples are sequences, just like lists. The differences between tuples and lists are, the tuples cannot be changed unlike lists and tuples use parentheses, whereas lists use square brackets."
      ]
    },
    {
      "cell_type": "code",
      "metadata": {
        "id": "UHaWWGN8Dr48"
      },
      "source": [
        "tuple1 = ('Amit ', 'Kuamr', 1, 2, 3)\r\n",
        "tuple2 = (1,2,3, 4,5)\r\n",
        "tuple3 = ('hii' , 'hello', 6,7)"
      ],
      "execution_count": 26,
      "outputs": []
    },
    {
      "cell_type": "markdown",
      "metadata": {
        "id": "wZpHaPmTGh7Y"
      },
      "source": [
        "Accessing the tuple"
      ]
    },
    {
      "cell_type": "code",
      "metadata": {
        "colab": {
          "base_uri": "https://localhost:8080/"
        },
        "id": "m5V-xl-PF5AG",
        "outputId": "73308f2e-1577-481e-ef25-49a42c68f13d"
      },
      "source": [
        "tuple1\r\n"
      ],
      "execution_count": 28,
      "outputs": [
        {
          "output_type": "execute_result",
          "data": {
            "text/plain": [
              "('Amit ', 'Kuamr', 1, 2, 3)"
            ]
          },
          "metadata": {
            "tags": []
          },
          "execution_count": 28
        }
      ]
    },
    {
      "cell_type": "code",
      "metadata": {
        "colab": {
          "base_uri": "https://localhost:8080/",
          "height": 36
        },
        "id": "p_xNloRMF9lE",
        "outputId": "cc7f9942-6e20-40e2-c88d-418cdd69d6d5"
      },
      "source": [
        "tuple1[1]"
      ],
      "execution_count": 29,
      "outputs": [
        {
          "output_type": "execute_result",
          "data": {
            "application/vnd.google.colaboratory.intrinsic+json": {
              "type": "string"
            },
            "text/plain": [
              "'Kuamr'"
            ]
          },
          "metadata": {
            "tags": []
          },
          "execution_count": 29
        }
      ]
    },
    {
      "cell_type": "code",
      "metadata": {
        "colab": {
          "base_uri": "https://localhost:8080/"
        },
        "id": "hVnkoZ2UGQ90",
        "outputId": "0282b07f-5c66-48b6-9102-29e1fce51660"
      },
      "source": [
        "tuple1[1:5]"
      ],
      "execution_count": 30,
      "outputs": [
        {
          "output_type": "execute_result",
          "data": {
            "text/plain": [
              "('Kuamr', 1, 2, 3)"
            ]
          },
          "metadata": {
            "tags": []
          },
          "execution_count": 30
        }
      ]
    },
    {
      "cell_type": "code",
      "metadata": {
        "id": "DHoLlg7UGcm5"
      },
      "source": [
        "All operation of the list are same as tuple"
      ],
      "execution_count": null,
      "outputs": []
    }
  ]
}