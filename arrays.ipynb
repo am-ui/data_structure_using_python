{
  "nbformat": 4,
  "nbformat_minor": 0,
  "metadata": {
    "colab": {
      "name": "arrays.ipynb",
      "provenance": []
    },
    "kernelspec": {
      "name": "python3",
      "display_name": "Python 3"
    }
  },
  "cells": [
    {
      "cell_type": "markdown",
      "metadata": {
        "id": "VNYySgYCACT-"
      },
      "source": [
        "#Array\r\n",
        ":- Array is a container which can hold a fix number of items and these items should be of the same type.\r\n",
        "thre are various operation performed on the array\r\n",
        "1. insertion\r\n",
        "2. deletion\r\n",
        "3. Traverse \r\n",
        "4. search \r\n",
        "5. update\r\n",
        "\r\n"
      ]
    },
    {
      "cell_type": "code",
      "metadata": {
        "id": "ztKMZXQFAfu4"
      },
      "source": [
        "from array import *"
      ],
      "execution_count": 18,
      "outputs": []
    },
    {
      "cell_type": "code",
      "metadata": {
        "colab": {
          "base_uri": "https://localhost:8080/"
        },
        "id": "M1zkJW_NAuCc",
        "outputId": "b736d719-1a8a-4aea-a931-fbd0b7047e01"
      },
      "source": [
        "#print all element of the array\r\n",
        "array1 = array('i',[10,20,30,40,50,60])\r\n",
        "for x in array1:\r\n",
        "  print(x)"
      ],
      "execution_count": 19,
      "outputs": [
        {
          "output_type": "stream",
          "text": [
            "10\n",
            "20\n",
            "30\n",
            "40\n",
            "50\n",
            "60\n"
          ],
          "name": "stdout"
        }
      ]
    },
    {
      "cell_type": "code",
      "metadata": {
        "colab": {
          "base_uri": "https://localhost:8080/"
        },
        "id": "O1EOqp0WBPZI",
        "outputId": "2bbff24e-d860-446a-ef05-3594087f7171"
      },
      "source": [
        "#accessing the element of the array\r\n",
        "array1[0]"
      ],
      "execution_count": 20,
      "outputs": [
        {
          "output_type": "execute_result",
          "data": {
            "text/plain": [
              "10"
            ]
          },
          "metadata": {
            "tags": []
          },
          "execution_count": 20
        }
      ]
    },
    {
      "cell_type": "code",
      "metadata": {
        "colab": {
          "base_uri": "https://localhost:8080/"
        },
        "id": "BsPj6LrPBkVy",
        "outputId": "f1b93c8f-d603-41f0-e13e-1af7eea8ea60"
      },
      "source": [
        "array1[3]"
      ],
      "execution_count": 21,
      "outputs": [
        {
          "output_type": "execute_result",
          "data": {
            "text/plain": [
              "40"
            ]
          },
          "metadata": {
            "tags": []
          },
          "execution_count": 21
        }
      ]
    },
    {
      "cell_type": "code",
      "metadata": {
        "colab": {
          "base_uri": "https://localhost:8080/"
        },
        "id": "gz7TPol0Bnye",
        "outputId": "a184e604-dbdb-480c-cfd5-b2d98d2b0f45"
      },
      "source": [
        "#insertion operation in the array\r\n",
        "array1.insert(6,60)\r\n",
        "for x in array1:\r\n",
        "  print(x)"
      ],
      "execution_count": 22,
      "outputs": [
        {
          "output_type": "stream",
          "text": [
            "10\n",
            "20\n",
            "30\n",
            "40\n",
            "50\n",
            "60\n",
            "60\n"
          ],
          "name": "stdout"
        }
      ]
    },
    {
      "cell_type": "code",
      "metadata": {
        "colab": {
          "base_uri": "https://localhost:8080/"
        },
        "id": "x3uT3npuCDME",
        "outputId": "8a32deec-5967-4850-9981-d05c0d52db4c"
      },
      "source": [
        "#deletion an element from array\r\n",
        "array1.remove(20)\r\n",
        "for x in array1:\r\n",
        "  print (x)"
      ],
      "execution_count": 23,
      "outputs": [
        {
          "output_type": "stream",
          "text": [
            "10\n",
            "30\n",
            "40\n",
            "50\n",
            "60\n",
            "60\n"
          ],
          "name": "stdout"
        }
      ]
    },
    {
      "cell_type": "code",
      "metadata": {
        "colab": {
          "base_uri": "https://localhost:8080/"
        },
        "id": "ytGmchDfCuaN",
        "outputId": "cf5a7a9e-7fc1-44c8-8ea5-6f278a12ccd6"
      },
      "source": [
        "#searching an element in the array\r\n",
        "print (array1.index(50))"
      ],
      "execution_count": 24,
      "outputs": [
        {
          "output_type": "stream",
          "text": [
            "3\n"
          ],
          "name": "stdout"
        }
      ]
    },
    {
      "cell_type": "code",
      "metadata": {
        "colab": {
          "base_uri": "https://localhost:8080/"
        },
        "id": "pWVzxunoDaw0",
        "outputId": "18020165-2f65-45f6-c07e-6a317e5699b0"
      },
      "source": [
        "#update an element in the array\r\n",
        "array1[2] = 100\r\n",
        "for x in array1:\r\n",
        "  print (x)"
      ],
      "execution_count": 25,
      "outputs": [
        {
          "output_type": "stream",
          "text": [
            "10\n",
            "30\n",
            "100\n",
            "50\n",
            "60\n",
            "60\n"
          ],
          "name": "stdout"
        }
      ]
    },
    {
      "cell_type": "code",
      "metadata": {
        "id": "RAMNWUL3D0ci"
      },
      "source": [
        ""
      ],
      "execution_count": 25,
      "outputs": []
    }
  ]
}