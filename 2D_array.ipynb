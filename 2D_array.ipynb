{
  "nbformat": 4,
  "nbformat_minor": 0,
  "metadata": {
    "colab": {
      "name": "2D_array.ipynb",
      "provenance": []
    },
    "kernelspec": {
      "name": "python3",
      "display_name": "Python 3"
    }
  },
  "cells": [
    {
      "cell_type": "markdown",
      "metadata": {
        "id": "EAVjotW-tfTl"
      },
      "source": [
        "#2D_Array\r\n",
        ":-Two dimensional array is an array within an array. It is an array of arrays. In this type of array the position of an data element is referred by two indices instead of one. So it represents a table with rows an dcolumns of data"
      ]
    },
    {
      "cell_type": "code",
      "metadata": {
        "id": "9ezTaybitmvn"
      },
      "source": [
        "#representation of the 2D_array\r\n",
        "array = [[11, 12, 5, 2], [15, 6,10], [10, 8, 12, 5], [12,15,8,6]]"
      ],
      "execution_count": 1,
      "outputs": []
    },
    {
      "cell_type": "code",
      "metadata": {
        "colab": {
          "base_uri": "https://localhost:8080/"
        },
        "id": "Sjfjqt_5t5sC",
        "outputId": "320616d8-469a-425e-97ae-80189eb7f1fb"
      },
      "source": [
        "#Accessing of the array\r\n",
        "array"
      ],
      "execution_count": 2,
      "outputs": [
        {
          "output_type": "execute_result",
          "data": {
            "text/plain": [
              "[[11, 12, 5, 2], [15, 6, 10], [10, 8, 12, 5], [12, 15, 8, 6]]"
            ]
          },
          "metadata": {
            "tags": []
          },
          "execution_count": 2
        }
      ]
    },
    {
      "cell_type": "code",
      "metadata": {
        "colab": {
          "base_uri": "https://localhost:8080/"
        },
        "id": "O7X617ekuJuh",
        "outputId": "ce7def06-1196-48b7-90fa-3bfea963675b"
      },
      "source": [
        "array[0]"
      ],
      "execution_count": 3,
      "outputs": [
        {
          "output_type": "execute_result",
          "data": {
            "text/plain": [
              "[11, 12, 5, 2]"
            ]
          },
          "metadata": {
            "tags": []
          },
          "execution_count": 3
        }
      ]
    },
    {
      "cell_type": "code",
      "metadata": {
        "colab": {
          "base_uri": "https://localhost:8080/"
        },
        "id": "avD97SlmuPsV",
        "outputId": "cfda3024-3a88-4fcd-f7bc-9d4b83fde211"
      },
      "source": [
        "array[1][2]"
      ],
      "execution_count": 4,
      "outputs": [
        {
          "output_type": "execute_result",
          "data": {
            "text/plain": [
              "10"
            ]
          },
          "metadata": {
            "tags": []
          },
          "execution_count": 4
        }
      ]
    },
    {
      "cell_type": "code",
      "metadata": {
        "colab": {
          "base_uri": "https://localhost:8080/"
        },
        "id": "g4mmv8YnuSkv",
        "outputId": "7d128b95-7d33-48c4-fc25-fd5a090ad116"
      },
      "source": [
        "for x in array:\r\n",
        "  for y in x:\r\n",
        "    print(y)"
      ],
      "execution_count": 7,
      "outputs": [
        {
          "output_type": "stream",
          "text": [
            "11\n",
            "12\n",
            "5\n",
            "2\n",
            "15\n",
            "6\n",
            "10\n",
            "10\n",
            "8\n",
            "12\n",
            "5\n",
            "12\n",
            "15\n",
            "8\n",
            "6\n"
          ],
          "name": "stdout"
        }
      ]
    },
    {
      "cell_type": "code",
      "metadata": {
        "colab": {
          "base_uri": "https://localhost:8080/"
        },
        "id": "vF5gL8s0ujhu",
        "outputId": "372a9be5-8094-44e7-cc4c-36a78100f0f9"
      },
      "source": [
        "for x in array:\r\n",
        "  for y in x:\r\n",
        "    print (y,end = ' ')"
      ],
      "execution_count": 8,
      "outputs": [
        {
          "output_type": "stream",
          "text": [
            "11 12 5 2 15 6 10 10 8 12 5 12 15 8 6 "
          ],
          "name": "stdout"
        }
      ]
    },
    {
      "cell_type": "code",
      "metadata": {
        "colab": {
          "base_uri": "https://localhost:8080/"
        },
        "id": "ojc6-4mgvFVK",
        "outputId": "7b1c57bf-881d-4a4c-c11f-380d8605a385"
      },
      "source": [
        "for  x in array:\r\n",
        "  for y in x:\r\n",
        "    print(y, end = ' ')\r\n",
        "  print()"
      ],
      "execution_count": 9,
      "outputs": [
        {
          "output_type": "stream",
          "text": [
            "11 12 5 2 \n",
            "15 6 10 \n",
            "10 8 12 5 \n",
            "12 15 8 6 \n"
          ],
          "name": "stdout"
        }
      ]
    },
    {
      "cell_type": "code",
      "metadata": {
        "id": "JncbBC1BvPRE"
      },
      "source": [
        "#inserting an element in the array\r\n",
        "array.insert(1,[2,3,4,5])"
      ],
      "execution_count": 11,
      "outputs": []
    },
    {
      "cell_type": "code",
      "metadata": {
        "colab": {
          "base_uri": "https://localhost:8080/"
        },
        "id": "XdYy3LAwvlZj",
        "outputId": "8352ea91-d36b-47af-f8f5-1ca341561fcc"
      },
      "source": [
        "for x in array:\r\n",
        "  for y in x:\r\n",
        "    print(y,end=' ')\r\n",
        "  print()"
      ],
      "execution_count": 12,
      "outputs": [
        {
          "output_type": "stream",
          "text": [
            "11 12 5 2 \n",
            "2 3 4 5 \n",
            "15 6 10 \n",
            "10 8 12 5 \n",
            "12 15 8 6 \n"
          ],
          "name": "stdout"
        }
      ]
    },
    {
      "cell_type": "code",
      "metadata": {
        "id": "vA-gUtYqvyDC"
      },
      "source": [
        "#updating the values in the 2d array\r\n",
        "array[2]=[3,6,9]"
      ],
      "execution_count": 13,
      "outputs": []
    },
    {
      "cell_type": "code",
      "metadata": {
        "colab": {
          "base_uri": "https://localhost:8080/"
        },
        "id": "Vg-269zBwFOF",
        "outputId": "d2fd4de2-67eb-48dd-948d-709acc9854f1"
      },
      "source": [
        "for x in array:\r\n",
        "  for y in x:\r\n",
        "    print(y, end =' ')\r\n",
        "  print()"
      ],
      "execution_count": 14,
      "outputs": [
        {
          "output_type": "stream",
          "text": [
            "11 12 5 2 \n",
            "2 3 4 5 \n",
            "3 6 9 \n",
            "10 8 12 5 \n",
            "12 15 8 6 \n"
          ],
          "name": "stdout"
        }
      ]
    },
    {
      "cell_type": "code",
      "metadata": {
        "id": "ivye8EZ7wODW"
      },
      "source": [
        "# deleting the values in the 2d array\r\n",
        "del array[2]"
      ],
      "execution_count": 15,
      "outputs": []
    },
    {
      "cell_type": "code",
      "metadata": {
        "colab": {
          "base_uri": "https://localhost:8080/"
        },
        "id": "6L0na12swaRy",
        "outputId": "1fe8c59c-d3ec-41b0-a7e6-4aa25f4d4a08"
      },
      "source": [
        "for x in array:\r\n",
        "  for y in x:\r\n",
        "    print (y, end =' ')\r\n",
        "  print()"
      ],
      "execution_count": 17,
      "outputs": [
        {
          "output_type": "stream",
          "text": [
            "11 12 5 2 \n",
            "2 3 4 5 \n",
            "10 8 12 5 \n",
            "12 15 8 6 \n"
          ],
          "name": "stdout"
        }
      ]
    },
    {
      "cell_type": "code",
      "metadata": {
        "id": "L8xKsNt3wijv"
      },
      "source": [
        ""
      ],
      "execution_count": null,
      "outputs": []
    }
  ]
}