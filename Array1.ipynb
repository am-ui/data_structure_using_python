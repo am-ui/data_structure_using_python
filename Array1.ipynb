{
 "cells": [
  {
   "cell_type": "code",
   "execution_count": 2,
   "metadata": {},
   "outputs": [
    {
     "name": "stdout",
     "output_type": "stream",
     "text": [
      "the original array is: 1 2 3 "
     ]
    }
   ],
   "source": [
    "import array\n",
    "arr=array.array('i',[1,2,3])\n",
    "print(\"the original array is:\", end = \" \")\n",
    "for i in range(0,3):\n",
    "    print(arr[i], end = ' ')"
   ]
  },
  {
   "cell_type": "code",
   "execution_count": 3,
   "metadata": {},
   "outputs": [
    {
     "name": "stdout",
     "output_type": "stream",
     "text": [
      "the append array is : 1 2 3 4 "
     ]
    }
   ],
   "source": [
    "#insert an element in array\n",
    "arr.append(4)\n",
    "print(\"the append array is :\", end = \" \")\n",
    "for i in range(0,4):\n",
    "    print(arr[i], end = \" \")"
   ]
  },
  {
   "cell_type": "code",
   "execution_count": 4,
   "metadata": {},
   "outputs": [
    {
     "name": "stdout",
     "output_type": "stream",
     "text": [
      " the inserted array is : 1 2 5 3 4 "
     ]
    }
   ],
   "source": [
    "#insert an element at specific position\n",
    "arr.insert(2,5)\n",
    "print(\" the inserted array is :\", end = \" \")\n",
    "for i in range(0,5):\n",
    "    print(arr[i], end = ' ')"
   ]
  },
  {
   "cell_type": "code",
   "execution_count": 6,
   "metadata": {},
   "outputs": [
    {
     "name": "stdout",
     "output_type": "stream",
     "text": [
      "the array after poped: 1 2 5 4 "
     ]
    }
   ],
   "source": [
    "# pop an element from an array\n",
    "#pop operation is index based operation\n",
    "arr.pop(3)\n",
    "print(\"the array after poped:\", end = \" \")\n",
    "for i in range(0,4):\n",
    "    print(arr[i],end = \" \")"
   ]
  },
  {
   "cell_type": "code",
   "execution_count": 7,
   "metadata": {},
   "outputs": [
    {
     "name": "stdout",
     "output_type": "stream",
     "text": [
      "1 2 4 "
     ]
    }
   ],
   "source": [
    "#Delete an element from array\n",
    "#delete is element based operation\n",
    "arr.remove(5)\n",
    "for i in range (0,3):\n",
    "    print(arr[i], end = \" \")"
   ]
  },
  {
   "cell_type": "code",
   "execution_count": 12,
   "metadata": {},
   "outputs": [
    {
     "name": "stdout",
     "output_type": "stream",
     "text": [
      "4 2 1 "
     ]
    }
   ],
   "source": [
    "#revering of array\n",
    "arr.reverse()\n",
    "for i in range(0,3):\n",
    "    print(arr[i], end = \" \")"
   ]
  },
  {
   "cell_type": "code",
   "execution_count": null,
   "metadata": {},
   "outputs": [],
   "source": []
  }
 ],
 "metadata": {
  "kernelspec": {
   "display_name": "Python 3",
   "language": "python",
   "name": "python3"
  },
  "language_info": {
   "codemirror_mode": {
    "name": "ipython",
    "version": 3
   },
   "file_extension": ".py",
   "mimetype": "text/x-python",
   "name": "python",
   "nbconvert_exporter": "python",
   "pygments_lexer": "ipython3",
   "version": "3.7.6"
  }
 },
 "nbformat": 4,
 "nbformat_minor": 4
}
